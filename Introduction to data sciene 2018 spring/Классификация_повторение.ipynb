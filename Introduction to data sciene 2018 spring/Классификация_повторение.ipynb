{
 "cells": [
  {
   "cell_type": "markdown",
   "metadata": {},
   "source": [
    "# Классификация\n",
    "\n",
    "**Задача классификации:**  <br /> \n",
    "У нас есть объекты, классы которых нам известны. \n",
    "Например, у вымышленного интернет-магазина есть три категории клиентов:\"консерваторы\", \"экспериментаторы\" и \"случайные клиенты\".\n",
    "И, соответственно, есть клиентская база, о каждом клиенте известно, к какой категории (классу) он принадлежит. \n",
    "\n",
    "Также имеются объекты, классы которых неизвестны. Например, это могут быть недавние клиенты.\n",
    "Задача классификации заключается в построении правила, умеющего классифицировать объекты по классам по имеющейся информации.\n",
    "\n",
    "Это задача обучения с учителем - мы заранее знаем разметку данных и будем по ней. \n",
    "\n",
    "**Типы классов:** <br />\n",
    "- Бинарная: два класса\n",
    "- Многоклассовая: от 3 и более классов\n",
    "\n",
    "\n",
    "- Непересекающиеся классы\n",
    "- Пересекающиеся классы\n",
    "- Нечеткие классы"
   ]
  },
  {
   "cell_type": "markdown",
   "metadata": {},
   "source": [
    "## Алгоритмы. \n"
   ]
  },
  {
   "cell_type": "markdown",
   "metadata": {},
   "source": [
    "### Метод k-ближайших соседей\n",
    "\n",
    "В метрическом пространстве (т.е. в таком, в котором введено понятие расстояния) есть объекты, классы которых нам известны. Есть также объекты, классы которых нам неизвестны, но они в пространстве расположены в окружении объектов с известными классами. \n",
    "\n",
    "Идея следующая: объекты из одного класса будут \"близко\" расположены, поэтому всякому неизвестному объекту присвоим класс его ближайших соседей. \n",
    "\n",
    "<img src = \"https://upload.wikimedia.org/wikipedia/commons/thumb/e/e7/KnnClassification.svg/279px-KnnClassification.svg.png\"> \n",
    "\n",
    "Нужно:\n",
    "- определиться, сколько соседей мы будем учитывать\n",
    "- каким образом будем определять близость/схожесть объектов"
   ]
  },
  {
   "cell_type": "markdown",
   "metadata": {},
   "source": [
    "### Случайный лес\n",
    "Алгоритм классификации на основе решающих деревьев. \n",
    "\n",
    "Решающее дерево - это средство поддержки принятия решений. Представляет собой древовидную структуру:\n",
    "- в узлах записаны атрибуты, по которым различаем случаи\n",
    "- по ребрам переходим к следующим атрибутам\n",
    "- в листах записан класс объекта\n",
    "\n",
    "Чтобы классифицировать объект по решающему дереву, нужно пройти от корня до листа, проверяя в каждом узле условия. \n",
    "\n",
    "<img src=\"https://upload.wikimedia.org/wikipedia/commons/f/f3/CART_tree_titanic_survivors.png\">\n",
    "\n",
    "Случайный лес - это ансамблевый метод:\n",
    "1. Генерируем подвыборку с повторениями из объектов размера N.\n",
    "2. Строим решающее дерево.\n",
    "3. Повторяем процедуру. \n",
    "\n",
    "Классификация объектов проводится путём голосования: каждое дерево комитета относит классифицируемый объект к одному из классов, и побеждает класс, за который проголосовало наибольшее число деревьев.\n",
    "\n",
    "Оптимальное число деревьев подбирается таким образом, чтобы минимизировать ошибку классификатора на тестовой выборке. В случае её отсутствия, минимизируется оценка ошибки out-of-bag: тех образцов, которые не попали в обучающую подвыборку за счёт повторений"
   ]
  },
  {
   "cell_type": "markdown",
   "metadata": {
    "scrolled": true
   },
   "source": [
    "## А хороший ли у нас классификатор? Метрики\n",
    "\n",
    "\n",
    "![](http://blog.exsilio.com/wp-content/uploads/2016/09/table-blog.png)\n",
    "\n",
    "\n",
    "**Доля правильных ответов (accuracy)**: $$AC = \\frac {TP + TN}{TP + FP + TN + FN} $$\n",
    "\n",
    "**Точность (precision)**: $$P = \\frac{TP}{TP + FP}$$\n",
    "\n",
    "**Полнота (recall)**: $$R = \\frac{TP}{TP + FN}$$\n",
    "\n",
    "Точность показывает, какая доля объектов, выделенных классификатором как положительные, действительно является положительными.\n",
    "\n",
    "Полнота показывает, какая часть положительных объектов была выделена классификатором\n",
    "\n",
    "\n",
    "**F-measure**: $$F = \\frac{1}{\\alpha\\frac{1}{P} + (1 - \\alpha)\\frac{1}{R}}$$\n",
    "\n",
    "**True Positive Rate**: $$TPR = \\frac{TP}{TP + FN}$$\n",
    "\n",
    "**False Positive Rate**: $$FPR = \\frac{FP}{FP + TN}$$\n",
    "\n",
    "\n",
    "TPR полностью совпадает с полнотой, и показывает долю верно предсказанных классов у объектов, относящихся к положительному классу.\n",
    "\n",
    "FPR — это доля неправильно предсказанных классов среди объектов отрицательного класса.\n",
    "\n",
    "\n"
   ]
  },
  {
   "cell_type": "markdown",
   "metadata": {},
   "source": [
    "## Скоринг как пример классификации\n",
    "\n",
    "Задача скоринга сводится к тому, что определяется, выдать кредит заемщику или нет. <br /> \n",
    "Это задача бинарной классификации:\n",
    "- класс 1: кредит выдан\n",
    "- класс 2: в кредите отказано\n",
    "\n",
    "В качестве основного источника данных используем <a href=\"https://archive.ics.uci.edu/ml/datasets/statlog+(german+credit+data)\"> публично доступный датасет </a>  в немного измененном виде. \n",
    "\n",
    "Значение признаков: \n",
    "\n",
    "- account: банковский счет (-1: отриц. баланс, 0: нет счета, 1: до 200 ед., 2: более 200 ед.)\n",
    "- duration: на какой период запрашивают кредит\n",
    "- credit_history: рейтинг по кредитной истории (от 0 - отличная кр. история до 4 - критическая ситуация с кредитами)\n",
    "- amount: на какую сумму запрашивают кредит\n",
    "- savings: сберегательный счет (0: нет, 1: < 100, 2: 100 <= ... < 500, 3: 500 <= ... < 1000, 4: >= 1000)\n",
    "- employment: срок работы на текущей позиции (0: не работает, 1: до 1 года, 2: от 1 до 4 лет, 3: от 4 до 7 лет, 4: более 7 лет)\n",
    "- guarantors: 1 - есть поручители, 0 - нет\n",
    "- residence: сколько лет резидент\n",
    "- age: возраст, деленный на 100\n",
    "- credits_number: число кредитов\n",
    "- job: 0: не работает, 1: неквалифицированный, 2: квалифицированный специалист, 3: высокая должность или бизнес\n",
    "- maintenance_people: число людей, которых обеспечивает заемщик\n",
    "- telephone: указан ли телефон (1: да, 0: нет)\n",
    "- foreign: 1: иностранец, 0: нет\n",
    "- real_estate: 1: есть недвижимость, 0: нет недвижимости\n",
    "- life_insurance: 1: оформлено страхование жизни, 0, нет страховки\n",
    "- car: 1: есть автомобиль, 0: нет автомобиля\n",
    "- housing_rent: 1: платит за съем жилья, 0: не платит за съем жилья\n",
    "- sex: пол - 1: муж., 0: жен.\n",
    "- purpose: на какую цель запрашивают кредит (из нескольких вариантов)\n",
    "- target: 1: кредит выдан, 0: в кредите отказано\n",
    "\n",
    "\n",
    "Итак, **наша задача**:\n",
    "\n",
    "Научиться относить людей к одному из двух классов, чтобы принимать решения по клиентам в будущем. "
   ]
  },
  {
   "cell_type": "code",
   "execution_count": 6,
   "metadata": {
    "collapsed": true
   },
   "outputs": [],
   "source": [
    "import pandas as pd\n",
    "import numpy as np\n",
    "\n",
    "from sklearn.model_selection import train_test_split\n",
    "from sklearn.metrics import accuracy_score"
   ]
  },
  {
   "cell_type": "code",
   "execution_count": 7,
   "metadata": {
    "scrolled": false
   },
   "outputs": [
    {
     "data": {
      "text/html": [
       "<div>\n",
       "<style>\n",
       "    .dataframe thead tr:only-child th {\n",
       "        text-align: right;\n",
       "    }\n",
       "\n",
       "    .dataframe thead th {\n",
       "        text-align: left;\n",
       "    }\n",
       "\n",
       "    .dataframe tbody tr th {\n",
       "        vertical-align: top;\n",
       "    }\n",
       "</style>\n",
       "<table border=\"1\" class=\"dataframe\">\n",
       "  <thead>\n",
       "    <tr style=\"text-align: right;\">\n",
       "      <th></th>\n",
       "      <th>account</th>\n",
       "      <th>duration</th>\n",
       "      <th>credit_history</th>\n",
       "      <th>amount</th>\n",
       "      <th>savings</th>\n",
       "      <th>employment</th>\n",
       "      <th>guarantors</th>\n",
       "      <th>residence</th>\n",
       "      <th>age</th>\n",
       "      <th>credits_number</th>\n",
       "      <th>...</th>\n",
       "      <th>maintenance_people</th>\n",
       "      <th>telephone</th>\n",
       "      <th>foreign</th>\n",
       "      <th>real_estate</th>\n",
       "      <th>life_insurance</th>\n",
       "      <th>car</th>\n",
       "      <th>housing_rent</th>\n",
       "      <th>sex</th>\n",
       "      <th>purpose</th>\n",
       "      <th>target</th>\n",
       "    </tr>\n",
       "  </thead>\n",
       "  <tbody>\n",
       "    <tr>\n",
       "      <th>0</th>\n",
       "      <td>1</td>\n",
       "      <td>0.18</td>\n",
       "      <td>2</td>\n",
       "      <td>0.13110</td>\n",
       "      <td>2</td>\n",
       "      <td>2</td>\n",
       "      <td>1</td>\n",
       "      <td>4</td>\n",
       "      <td>0.34</td>\n",
       "      <td>1</td>\n",
       "      <td>...</td>\n",
       "      <td>1</td>\n",
       "      <td>0</td>\n",
       "      <td>1</td>\n",
       "      <td>0</td>\n",
       "      <td>0</td>\n",
       "      <td>1</td>\n",
       "      <td>0</td>\n",
       "      <td>1</td>\n",
       "      <td>business</td>\n",
       "      <td>1</td>\n",
       "    </tr>\n",
       "    <tr>\n",
       "      <th>1</th>\n",
       "      <td>-1</td>\n",
       "      <td>0.18</td>\n",
       "      <td>0</td>\n",
       "      <td>0.15520</td>\n",
       "      <td>1</td>\n",
       "      <td>3</td>\n",
       "      <td>1</td>\n",
       "      <td>1</td>\n",
       "      <td>0.31</td>\n",
       "      <td>1</td>\n",
       "      <td>...</td>\n",
       "      <td>1</td>\n",
       "      <td>1</td>\n",
       "      <td>1</td>\n",
       "      <td>0</td>\n",
       "      <td>1</td>\n",
       "      <td>0</td>\n",
       "      <td>0</td>\n",
       "      <td>1</td>\n",
       "      <td>business</td>\n",
       "      <td>1</td>\n",
       "    </tr>\n",
       "    <tr>\n",
       "      <th>2</th>\n",
       "      <td>-1</td>\n",
       "      <td>0.12</td>\n",
       "      <td>2</td>\n",
       "      <td>0.04510</td>\n",
       "      <td>1</td>\n",
       "      <td>3</td>\n",
       "      <td>1</td>\n",
       "      <td>4</td>\n",
       "      <td>0.21</td>\n",
       "      <td>1</td>\n",
       "      <td>...</td>\n",
       "      <td>1</td>\n",
       "      <td>0</td>\n",
       "      <td>1</td>\n",
       "      <td>0</td>\n",
       "      <td>1</td>\n",
       "      <td>0</td>\n",
       "      <td>1</td>\n",
       "      <td>1</td>\n",
       "      <td>retraining</td>\n",
       "      <td>0</td>\n",
       "    </tr>\n",
       "    <tr>\n",
       "      <th>3</th>\n",
       "      <td>-1</td>\n",
       "      <td>0.30</td>\n",
       "      <td>0</td>\n",
       "      <td>0.40360</td>\n",
       "      <td>0</td>\n",
       "      <td>1</td>\n",
       "      <td>1</td>\n",
       "      <td>3</td>\n",
       "      <td>0.25</td>\n",
       "      <td>3</td>\n",
       "      <td>...</td>\n",
       "      <td>1</td>\n",
       "      <td>0</td>\n",
       "      <td>1</td>\n",
       "      <td>0</td>\n",
       "      <td>0</td>\n",
       "      <td>1</td>\n",
       "      <td>0</td>\n",
       "      <td>1</td>\n",
       "      <td>business</td>\n",
       "      <td>1</td>\n",
       "    </tr>\n",
       "    <tr>\n",
       "      <th>4</th>\n",
       "      <td>0</td>\n",
       "      <td>0.36</td>\n",
       "      <td>2</td>\n",
       "      <td>0.09095</td>\n",
       "      <td>1</td>\n",
       "      <td>2</td>\n",
       "      <td>1</td>\n",
       "      <td>4</td>\n",
       "      <td>0.37</td>\n",
       "      <td>1</td>\n",
       "      <td>...</td>\n",
       "      <td>1</td>\n",
       "      <td>1</td>\n",
       "      <td>1</td>\n",
       "      <td>0</td>\n",
       "      <td>0</td>\n",
       "      <td>0</td>\n",
       "      <td>0</td>\n",
       "      <td>1</td>\n",
       "      <td>education</td>\n",
       "      <td>0</td>\n",
       "    </tr>\n",
       "  </tbody>\n",
       "</table>\n",
       "<p>5 rows × 21 columns</p>\n",
       "</div>"
      ],
      "text/plain": [
       "   account  duration  credit_history   amount  savings  employment  \\\n",
       "0        1      0.18               2  0.13110        2           2   \n",
       "1       -1      0.18               0  0.15520        1           3   \n",
       "2       -1      0.12               2  0.04510        1           3   \n",
       "3       -1      0.30               0  0.40360        0           1   \n",
       "4        0      0.36               2  0.09095        1           2   \n",
       "\n",
       "   guarantors  residence   age  credits_number  ...    maintenance_people  \\\n",
       "0           1          4  0.34               1  ...                     1   \n",
       "1           1          1  0.31               1  ...                     1   \n",
       "2           1          4  0.21               1  ...                     1   \n",
       "3           1          3  0.25               3  ...                     1   \n",
       "4           1          4  0.37               1  ...                     1   \n",
       "\n",
       "   telephone  foreign  real_estate  life_insurance  car  housing_rent  sex  \\\n",
       "0          0        1            0               0    1             0    1   \n",
       "1          1        1            0               1    0             0    1   \n",
       "2          0        1            0               1    0             1    1   \n",
       "3          0        1            0               0    1             0    1   \n",
       "4          1        1            0               0    0             0    1   \n",
       "\n",
       "      purpose target  \n",
       "0    business      1  \n",
       "1    business      1  \n",
       "2  retraining      0  \n",
       "3    business      1  \n",
       "4   education      0  \n",
       "\n",
       "[5 rows x 21 columns]"
      ]
     },
     "execution_count": 7,
     "metadata": {},
     "output_type": "execute_result"
    }
   ],
   "source": [
    "scorData = pd.read_excel(\"https://github.com/nadiinchi/voronovo_seminar_materials/blob/master/base_track/seminars/scoring.xls?raw=true\")\n",
    "scorData.head(5)"
   ]
  },
  {
   "cell_type": "code",
   "execution_count": 28,
   "metadata": {},
   "outputs": [
    {
     "data": {
      "text/plain": [
       "account               0\n",
       "duration              0\n",
       "credit_history        0\n",
       "amount                0\n",
       "savings               0\n",
       "employment            0\n",
       "guarantors            0\n",
       "residence             0\n",
       "age                   0\n",
       "credits_number        0\n",
       "job                   0\n",
       "maintenance_people    0\n",
       "telephone             0\n",
       "foreign               0\n",
       "real_estate           0\n",
       "life_insurance        0\n",
       "car                   0\n",
       "housing_rent          0\n",
       "sex                   0\n",
       "purpose               0\n",
       "target                0\n",
       "dtype: int64"
      ]
     },
     "execution_count": 28,
     "metadata": {},
     "output_type": "execute_result"
    }
   ],
   "source": [
    "scorData.isnull().sum()"
   ]
  },
  {
   "cell_type": "markdown",
   "metadata": {},
   "source": [
    "В датасете есть столбец с категориальной переменной, нужно её обработать. Также нам нужно разделить столбец с целевой переменной, в которой записаны классы, от таблицы с признаками. \n",
    "\n",
    "\n",
    "Поэтому в перменную **X** запишем матрицу объект-признак, в переменную **y** запишем класс объекта"
   ]
  },
  {
   "cell_type": "code",
   "execution_count": null,
   "metadata": {
    "collapsed": true
   },
   "outputs": [],
   "source": [
    "scorData = pd.concat([\n",
    "    scorData.drop(['purpose'], axis=1), \n",
    "    pd.get_dummies(scorData.purpose, drop_first=True)\n",
    "], axis=1)"
   ]
  },
  {
   "cell_type": "code",
   "execution_count": 34,
   "metadata": {},
   "outputs": [
    {
     "data": {
      "text/plain": [
       "((600, 28), (600,))"
      ]
     },
     "execution_count": 34,
     "metadata": {},
     "output_type": "execute_result"
    }
   ],
   "source": [
    "X = scorData.drop(['target'], axis=1)\n",
    "y = scorData['target']\n",
    "# Посмотрим на размерности получившихся таблиц\n",
    "X.shape, y.shape"
   ]
  },
  {
   "cell_type": "code",
   "execution_count": 35,
   "metadata": {
    "collapsed": true
   },
   "outputs": [],
   "source": [
    "#перед разбиением перетасовываем данные\n",
    "X_train, X_test, y_train, y_test  = train_test_split(X, y, test_size = 0.3, shuffle = True, random_state = 0)"
   ]
  },
  {
   "cell_type": "code",
   "execution_count": 36,
   "metadata": {
    "scrolled": true
   },
   "outputs": [
    {
     "name": "stdout",
     "output_type": "stream",
     "text": [
      "Состав  обучающей выборки: 1    222\n",
      "0    198\n",
      "Name: target, dtype: int64 \n",
      "\n",
      "Состав тестовой выборки: 0    102\n",
      "1     78\n",
      "Name: target, dtype: int64 \n",
      "\n",
      "Размер матрицы объект-признаки обучающей выборки:  (420, 28)\n",
      "Размер целевой переменной обучающей выборки: (420,)\n"
     ]
    }
   ],
   "source": [
    "print('Состав  обучающей выборки:', y_train.value_counts(), '\\n')\n",
    "print('Состав тестовой выборки:', y_test.value_counts(), '\\n')\n",
    "print('Размер матрицы объект-признаки обучающей выборки: ', X_train.shape)\n",
    "print('Размер целевой переменной обучающей выборки:', y_train.shape)"
   ]
  },
  {
   "cell_type": "code",
   "execution_count": 37,
   "metadata": {
    "collapsed": true
   },
   "outputs": [],
   "source": [
    "from sklearn.neighbors import KNeighborsClassifier"
   ]
  },
  {
   "cell_type": "code",
   "execution_count": 38,
   "metadata": {},
   "outputs": [
    {
     "data": {
      "text/plain": [
       "KNeighborsClassifier(algorithm='auto', leaf_size=30, metric='minkowski',\n",
       "           metric_params=None, n_jobs=1, n_neighbors=5, p=2,\n",
       "           weights='uniform')"
      ]
     },
     "execution_count": 38,
     "metadata": {},
     "output_type": "execute_result"
    }
   ],
   "source": [
    "clf_KNN = KNeighborsClassifier() \n",
    "clf_KNN.fit(X_train, y_train)"
   ]
  },
  {
   "cell_type": "code",
   "execution_count": 39,
   "metadata": {},
   "outputs": [
    {
     "data": {
      "text/plain": [
       "0.6166666666666667"
      ]
     },
     "execution_count": 39,
     "metadata": {},
     "output_type": "execute_result"
    }
   ],
   "source": [
    "y_predKNN = clf_KNN.predict(X_test)\n",
    "accuracy_score(y_test, y_predKNN)"
   ]
  },
  {
   "cell_type": "code",
   "execution_count": 40,
   "metadata": {},
   "outputs": [
    {
     "name": "stdout",
     "output_type": "stream",
     "text": [
      "Предсказания классификатора:\n",
      "[0 1 0 0 1 0 0 1 1 1 1 0 1 0 1 0 0 0 1 1]\n",
      "Действительные классы:\n",
      "434    0\n",
      "122    1\n",
      "224    1\n",
      "479    0\n",
      "205    0\n",
      "569    0\n",
      "432    1\n",
      "526    1\n",
      "439    1\n",
      "162    0\n",
      "315    1\n",
      "400    0\n",
      "173    0\n",
      "283    0\n",
      "48     1\n",
      "457    0\n",
      "482    0\n",
      "85     0\n",
      "187    1\n",
      "365    1\n",
      "Name: target, dtype: int64\n"
     ]
    }
   ],
   "source": [
    "print('Предсказания классификатора:')\n",
    "print(y_predKNN[:20])\n",
    "print('Действительные классы:')\n",
    "print(y_test[:20])"
   ]
  },
  {
   "cell_type": "code",
   "execution_count": 41,
   "metadata": {
    "collapsed": true
   },
   "outputs": [],
   "source": [
    "from sklearn.ensemble import RandomForestClassifier"
   ]
  },
  {
   "cell_type": "code",
   "execution_count": 42,
   "metadata": {},
   "outputs": [
    {
     "data": {
      "text/plain": [
       "RandomForestClassifier(bootstrap=True, class_weight=None, criterion='gini',\n",
       "            max_depth=None, max_features='auto', max_leaf_nodes=None,\n",
       "            min_impurity_decrease=0.0, min_impurity_split=None,\n",
       "            min_samples_leaf=1, min_samples_split=2,\n",
       "            min_weight_fraction_leaf=0.0, n_estimators=10, n_jobs=1,\n",
       "            oob_score=False, random_state=0, verbose=0, warm_start=False)"
      ]
     },
     "execution_count": 42,
     "metadata": {},
     "output_type": "execute_result"
    }
   ],
   "source": [
    "clf_RF = RandomForestClassifier(random_state=0)\n",
    "clf_RF.fit(X_train, y_train)"
   ]
  },
  {
   "cell_type": "code",
   "execution_count": 43,
   "metadata": {},
   "outputs": [
    {
     "data": {
      "text/plain": [
       "0.6722222222222223"
      ]
     },
     "execution_count": 43,
     "metadata": {},
     "output_type": "execute_result"
    }
   ],
   "source": [
    "y_predRF = clf_RF.predict(X_test)\n",
    "accuracy_score(y_test, y_predRF)"
   ]
  },
  {
   "cell_type": "code",
   "execution_count": null,
   "metadata": {
    "collapsed": true
   },
   "outputs": [],
   "source": [
    "featureImportance = pd.DataFrame({\"feature\": df.drop('Survived',axis=1).columns, \n",
    "                                  \"importance\": clf_RF.feature_importances_})\n",
    "\n",
    "featureImportance.set_index('feature', inplace=True)\n",
    "featureImportance.sort_values([\"importance\"], ascending=False, inplace=True)\n",
    "featureImportance"
   ]
  },
  {
   "cell_type": "markdown",
   "metadata": {},
   "source": [
    "## Качество результатов и подбор параметров\n",
    "\n",
    "В примерах выше каждый раз мы пользовались техникой отложенной выборки: часть данных не использовали в обучении, но проверяли на них качество построенной модели по какой-либо метрике. \n",
    "\n",
    "Также в рассмотренных задачах нам попадались параметры, которые мы ставили либо наугад, либо доверяли дефолтным значениям. На практике используется **кросс-валидация** или метод скользящего контроля. В библиотеке scklearn представлено <a href = \"http://scikit-learn.org/stable/modules/cross_validation.html\">несколько подходов</a> к кросс-валидации."
   ]
  },
  {
   "cell_type": "code",
   "execution_count": 44,
   "metadata": {
    "collapsed": true
   },
   "outputs": [],
   "source": [
    "scorData = pd.read_excel(\"https://github.com/nadiinchi/voronovo_seminar_materials/blob/master/base_track/seminars/scoring.xls?raw=true\")\n",
    "X = scorData[scorData.columns[:-2]]\n",
    "y = scorData['target']\n",
    "\n",
    "#normalized_X = preprocessing.normalize(X)\n",
    "#from sklearn import preprocessing\n",
    "#normalized_X = preprocessing.normalize(X)\n",
    "#standardized_X = preprocessing.scale(X)"
   ]
  },
  {
   "cell_type": "markdown",
   "metadata": {},
   "source": [
    "### Оптимальное число соседей в kNN\n",
    "Попробуем подобрать оптимальное число соседей для классификатора. В примере использовано дефолтное значение 5 соседей. Вдруг это мало? Или много?"
   ]
  },
  {
   "cell_type": "code",
   "execution_count": 45,
   "metadata": {
    "collapsed": true,
    "scrolled": true
   },
   "outputs": [],
   "source": [
    "#импортируем функцию\n",
    "from sklearn.model_selection import cross_val_score"
   ]
  },
  {
   "cell_type": "markdown",
   "metadata": {},
   "source": [
    "В эту функцию мы передаем:\n",
    "- модель\n",
    "- матрицу объект-признак\n",
    "- метки\n",
    "- метрику, по которой будем строить оценку\n",
    "- каким образом мы хотим делать кросс-валидацию\n",
    "\n",
    "Самая популярная стратегия кросс-валидации - это K-Fold\n",
    "<img src =\"https://im0-tub-ru.yandex.net/i?id=46f84cf02b6c16b864f2ef0cab47e123&n=13\">"
   ]
  },
  {
   "cell_type": "code",
   "execution_count": 46,
   "metadata": {
    "collapsed": true
   },
   "outputs": [],
   "source": [
    "rangeList = list(range(1,100))\n",
    "scoreListMean = []\n",
    "scoreListStd = []\n",
    "\n",
    "for k in rangeList:\n",
    "    knn = KNeighborsClassifier(n_neighbors = k)\n",
    "    cap_score = cross_val_score(knn, X, y, cv = 5, scoring = 'accuracy')\n",
    "    scoreListMean.append(cap_score.mean())\n",
    "    scoreListStd.append(cap_score.std())"
   ]
  },
  {
   "cell_type": "code",
   "execution_count": 47,
   "metadata": {
    "collapsed": true
   },
   "outputs": [],
   "source": [
    "import matplotlib.pyplot as plt\n",
    "%matplotlib inline"
   ]
  },
  {
   "cell_type": "code",
   "execution_count": 48,
   "metadata": {
    "scrolled": true
   },
   "outputs": [
    {
     "data": {
      "image/png": "[encoded data removed]",
      "text/plain": [
       "<matplotlib.figure.Figure at 0x11b17ec88>"
      ]
     },
     "metadata": {},
     "output_type": "display_data"
    }
   ],
   "source": [
    "plt.plot(rangeList, scoreListMean, label = 'Mean accuracy')\n",
    "#plt.plot(rangeList, scoreListStd, label = 'STD accuracy')\n",
    "plt.xlabel('KNN Range')\n",
    "plt.ylabel('Accuracy Score')\n",
    "plt.show()"
   ]
  },
  {
   "cell_type": "markdown",
   "metadata": {
    "scrolled": true
   },
   "source": [
    "## Задание по классификации. \n",
    "\n",
    "Скачайте данные (файл train.csv) из датасета о пассажирах на Титанике:\n",
    "https://www.kaggle.com/c/titanic/data\n",
    "\n",
    "1) Разбейте выборку на обучающую и тестовую в соотношении 80/20 <br />\n",
    "2) Постройте классификатор kNN по обучающей выборке. Найдите оптимальное число соседей (протестируйте варианты от 3 до 50 соседей), использую стратегию 7-Fold валидации и в качестве метрики качества используйте точность<br />\n",
    "3) Постройте классификатор Random Forest по обучающей выборке. <br />\n",
    "4) Напишите функцию для расчета точности классификации.<br />\n",
    "5) Посчитайте точность классификации по тестовой выборке по двум моделям. Прокомментируйте результаты. "
   ]
  }
 ],
 "metadata": {
  "kernelspec": {
   "display_name": "Python 3",
   "language": "python",
   "name": "python3"
  },
  "language_info": {
   "codemirror_mode": {
    "name": "ipython",
    "version": 3
   },
   "file_extension": ".py",
   "mimetype": "text/x-python",
   "name": "python",
   "nbconvert_exporter": "python",
   "pygments_lexer": "ipython3",
   "version": "3.6.1"
  },
  "varInspector": {
   "cols": {
    "lenName": 16,
    "lenType": 16,
    "lenVar": 40
   },
   "kernels_config": {
    "python": {
     "delete_cmd_postfix": "",
     "delete_cmd_prefix": "del ",
     "library": "var_list.py",
     "varRefreshCmd": "print(var_dic_list())"
    },
    "r": {
     "delete_cmd_postfix": ") ",
     "delete_cmd_prefix": "rm(",
     "library": "var_list.r",
     "varRefreshCmd": "cat(var_dic_list()) "
    }
   },
   "types_to_exclude": [
    "module",
    "function",
    "builtin_function_or_method",
    "instance",
    "_Feature"
   ],
   "window_display": false
  }
 },
 "nbformat": 4,
 "nbformat_minor": 2
}
