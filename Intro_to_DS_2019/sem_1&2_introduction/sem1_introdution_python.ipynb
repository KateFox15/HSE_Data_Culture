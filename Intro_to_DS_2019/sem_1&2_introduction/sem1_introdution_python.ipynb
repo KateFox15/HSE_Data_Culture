{
 "cells": [
  {
   "cell_type": "markdown",
   "metadata": {},
   "source": [
    "# Семинар 1: Introduction to Data Science "
   ]
  },
  {
   "cell_type": "markdown",
   "metadata": {},
   "source": [
    "## 0. Где мы сейчас?\n",
    "\n",
    "Когда вы проходили DataCamp, вы писали код прямо в ... Datacamp. В реальности обычно это делают в различных текстовых редакторах. Один из таких редакторов - `Jupyter Notebook`. Это  удобная интерактивная среда для запуска кода в браузере. Её использует очень много кто. Будем и мы. \n",
    "\n",
    "* В отдельной ячейке можно писать код либо текстовые комментарии\n",
    "* Наверху удобная панель по работе с юпитером\n",
    "* Чтобы создать новую ячейку, надо нажать плюсик \n",
    "* Чтобы запустить код, надо нажать шифт + энтер\n",
    "\n",
    "<center>\n",
    "<img src=\"http://i0.kym-cdn.com/photos/images/original/000/234/765/b7e.jpg\" height=\"400\" width=\"400\">"
   ]
  },
  {
   "cell_type": "markdown",
   "metadata": {},
   "source": [
    "## 1. Python\n",
    "\n",
    "> Python - это свободный интерпретируемый объектно-ориентированный расширяемый встраиваемый язык программирования очень высокого уровня \n",
    "\n",
    ">*(Г.Россум, Ф.Л.Дж.Дрейк, Д.С.Откидач \"Язык программирования Python\").*\n",
    "\n",
    "А если без цитат, то питон - это просто очень крутой язык, созданный в 1991 году [Великодушным пожизненным диктатором](https://ru.wikipedia.org/wiki/%D0%92%D0%B5%D0%BB%D0%B8%D0%BA%D0%BE%D0%B4%D1%83%D1%88%D0%BD%D1%8B%D0%B9_%D0%BF%D0%BE%D0%B6%D0%B8%D0%B7%D0%BD%D0%B5%D0%BD%D0%BD%D1%8B%D0%B9_%D0%B4%D0%B8%D0%BA%D1%82%D0%B0%D1%82%D0%BE%D1%80) Гвидо ван Россумом и называнный в честь любимого им шоу [Monty Python's Flying Circus](https://en.wikipedia.org/wiki/Monty_Python%27s_Flying_Circus)"
   ]
  },
  {
   "cell_type": "markdown",
   "metadata": {},
   "source": [
    "<center>\n",
    "<img src=\"https://zgab33vy595fw5zq-zippykid.netdna-ssl.com/wp-content/uploads/2017/09/growth_major_languages-1-1024x878.png\" width=\"600\">"
   ]
  },
  {
   "cell_type": "markdown",
   "metadata": {},
   "source": [
    "## 2. Anaconda\n",
    "\n",
    "<img src=\"https://cdn-images-1.medium.com/max/1600/0*MVkCW8_Bmj-nuAnI.png\" width=\"600\">\n",
    "\n",
    "Любой язык нужно как-то распространять. Python распространяется в дистрибутиве (специальной программе) с названием Anaconda. Кроме самого языка в неё входит юпитер и большое количество разных популярных библиотек. Например: \n",
    "\n",
    " - <a href=\"http://numpy.org\">Numpy</a> - это один из основных пакетов для научных вычислений. Он содержит функциональные средства для работы с многомерными массивами и высокоуровневыми математическими функциями.\n",
    " - <a href=\"http://numpy.org\">SciPy</a> - научные вычисления. Методы оптимизации, интегрирования, модули обработки сигналов и изображений, статистика, линейная алгебра, сплайны, кластеризация и многое другое. \n",
    " -  <a href=\"http://pandas.pydata.org/\">Pandas</a> - библиотека для обработки и анализа данных. Предназначена для данных разной природы - матричных, панельных данных, временных рядов. Претендует на звание самого мощного и гибкого средства для анализа данных с открытым исходным кодом.\n",
    " - <a href=\"http://scikit-learn.org/stable/\">Scikit-learn</a> - реализация очень многих методов машинного обучения и интеллекуального анализа данных (data mining) с отличной документацией. \n",
    " - <a href=\"http://http://matplotlib.org/\">matplotlib</a> - библиотека для визаулизации данных, в основном двухмерная графика.\n",
    " \n",
    " Когда вы ставить анаконду, сразу устанавливается всё это добро, покрывающее болбшую часть потребностей аналитика."
   ]
  },
  {
   "cell_type": "markdown",
   "metadata": {},
   "source": [
    "## 3. Знакомство с Python\n",
    "\n",
    "На датакампе вы решили миллион разных задач. Пришло время показать нам весь тот навык, который вы наработали и выполнить кучу разных небольших заданий.  В каких-то из них вы будете объяснять мне что происходит в ячейках, в каких-то дописывать недостающие куски кода."
   ]
  },
  {
   "cell_type": "code",
   "execution_count": 19,
   "metadata": {},
   "outputs": [
    {
     "name": "stdout",
     "output_type": "stream",
     "text": [
      "100\n",
      "1000.0\n",
      "John\n"
     ]
    }
   ],
   "source": [
    "# Переменные в Python бывают разных типов: каких? \n",
    "\n",
    "counter = 100       # An integer assignment\n",
    "miles = 1000.0      # A floating point\n",
    "name = \"John\"       # A string\n",
    "\n",
    "print(counter)\n",
    "print(miles)\n",
    "print(name)"
   ]
  },
  {
   "cell_type": "markdown",
   "metadata": {},
   "source": [
    "__Задание:__ Объясните что происходит в ячейке ниже, а после дополните код."
   ]
  },
  {
   "cell_type": "code",
   "execution_count": 21,
   "metadata": {},
   "outputs": [
    {
     "name": "stdout",
     "output_type": "stream",
     "text": [
      "1 1 1\n"
     ]
    }
   ],
   "source": [
    "# множественное присваивание \n",
    "a = b = c = 1\n",
    "print(a,b,c)"
   ]
  },
  {
   "cell_type": "code",
   "execution_count": null,
   "metadata": {},
   "outputs": [],
   "source": [
    "# можно сделать множественное присваиваиние и по-другому\n",
    "# вспомните как \n",
    "\n",
    "a,b,c =  # ваш код здесь \n",
    "print(a,b,c)"
   ]
  },
  {
   "cell_type": "markdown",
   "metadata": {},
   "source": [
    "Стандартные типы данных в python: \n",
    "\n",
    "* Число  (numbers)\n",
    "* Строка (string)\n",
    "* Список (list)\n",
    "* Кортеж (tuple)\n",
    "* Словарь (dictionary)"
   ]
  },
  {
   "cell_type": "code",
   "execution_count": 22,
   "metadata": {},
   "outputs": [],
   "source": [
    "# Number\n",
    "var1 = 1\n",
    "var2 = 10"
   ]
  },
  {
   "cell_type": "code",
   "execution_count": 24,
   "metadata": {},
   "outputs": [
    {
     "name": "stdout",
     "output_type": "stream",
     "text": [
      "Hello World!\n",
      "H\n",
      "llo\n"
     ]
    }
   ],
   "source": [
    "# Strings\n",
    "my_str = 'Hello World!'\n",
    "\n",
    "print(my_str)          # Печатаем полностью\n",
    "print(my_str[0])       # Печатаем первый символ строки\n",
    "print(my_str[2:5])     # Печатаем символы с третьего по пятый (нумерация в питоне с нуля)"
   ]
  },
  {
   "cell_type": "code",
   "execution_count": 26,
   "metadata": {},
   "outputs": [
    {
     "name": "stdout",
     "output_type": "stream",
     "text": [
      "['abcd', 786, 2.23, 'john', 70.2]\n",
      "abcd\n",
      "[786, 2.23]\n",
      "[2.23, 'john', 70.2]\n",
      "[123, 'john', 123, 'john']\n",
      "['abcd', 786, 2.23, 'john', 70.2, 123, 'john']\n"
     ]
    }
   ],
   "source": [
    "# List\n",
    "my_list = ['abcd', 786 , 2.23, 'john', 70.2]\n",
    "tinylist = [123, 'john']\n",
    "\n",
    "print(my_list)            # Печатаем весь лист\n",
    "print(my_list[0])         # Печатаем первый элемент\n",
    "print(my_list[1:3])       # Печатаем срез со 2 по 3 элементы (не включае 4)\n",
    "print(my_list[2:])        # Печатаем все элементы с третьего\n",
    "print(tinylist * 2)       # Дублирует лист дважды\n",
    "print(my_list + tinylist) # Складывает листы (конкатенация)"
   ]
  },
  {
   "cell_type": "markdown",
   "metadata": {},
   "source": [
    "__Задание:__ Сделайте конкатенацию двух листов с любыми срезами и распечатайте новый лист."
   ]
  },
  {
   "cell_type": "code",
   "execution_count": null,
   "metadata": {},
   "outputs": [],
   "source": [
    "# Ваш код здесь"
   ]
  },
  {
   "cell_type": "code",
   "execution_count": 27,
   "metadata": {},
   "outputs": [
    {
     "name": "stdout",
     "output_type": "stream",
     "text": [
      "('abcd', 786, 2.23, 'john', 70.2)\n",
      "abcd\n",
      "(786, 2.23)\n",
      "(2.23, 'john', 70.2)\n",
      "(123, 'john', 123, 'john')\n"
     ]
    }
   ],
   "source": [
    "# Tuple\n",
    "\n",
    "my_tuple = ('abcd', 786 , 2.23, 'john', 70.2)\n",
    "tinytuple = (123, 'john')\n",
    "\n",
    "print(my_tuple)         # Печатаем полностью\n",
    "print(my_tuple[0])      # Печатаем первый элемент\n",
    "print(my_tuple[1:3])    # Печатаем срез со 2 по 3 элементы (не включае 4)\n",
    "print(my_tuple[2:])     # Печатаем все элементы с третьего\n",
    "print(tinytuple * 2)    # Дублирует кортеж дважды"
   ]
  },
  {
   "cell_type": "markdown",
   "metadata": {},
   "source": [
    "__Задание:__ Объясните разницу между list и tuple. Конкантенируете tinytuple и my_tuple."
   ]
  },
  {
   "cell_type": "code",
   "execution_count": null,
   "metadata": {},
   "outputs": [],
   "source": [
    "# Ваш код здесь"
   ]
  },
  {
   "cell_type": "code",
   "execution_count": 30,
   "metadata": {},
   "outputs": [
    {
     "name": "stdout",
     "output_type": "stream",
     "text": [
      "This is one\n",
      "This is two\n"
     ]
    }
   ],
   "source": [
    "# Dictionary\n",
    "\n",
    "my_dict = {}\n",
    "my_dict['one'] = \"This is one\"\n",
    "my_dict[2] = \"This is two\"\n",
    "\n",
    "tinydict = {'name': 'john', 'code': 6734, 'dept': 'sales'}\n",
    "\n",
    "print(my_dict['one'])      # Выводим значение по ключу 'one'\n",
    "print(my_dict[2])          # Выводим значение по ключу 2"
   ]
  },
  {
   "cell_type": "markdown",
   "metadata": {},
   "source": [
    "__Задание:__ выведите на экран все ключи и значения, которые есть в словаре."
   ]
  },
  {
   "cell_type": "code",
   "execution_count": null,
   "metadata": {},
   "outputs": [],
   "source": [
    "# Ваш код здесь"
   ]
  },
  {
   "cell_type": "code",
   "execution_count": 32,
   "metadata": {},
   "outputs": [
    {
     "name": "stdout",
     "output_type": "stream",
     "text": [
      "<class 'dict_values'>\n",
      "<class 'dict_keys'>\n",
      "<class 'dict_values'>\n"
     ]
    }
   ],
   "source": [
    "#Посмотрим на типы элементов, скрывающих за собой ключи и значения словаря\n",
    "print(type(tinydict.values()))\n",
    "print(type(tinydict.keys()))\n",
    "\n",
    "dict_values_elements = tinydict.values()\n",
    "print(type(dict_values_elements))"
   ]
  },
  {
   "cell_type": "markdown",
   "metadata": {},
   "source": [
    "__Задание:__ Попробуйте вытащить из `tinydict.values()` первый элемент по индексу `0`."
   ]
  },
  {
   "cell_type": "code",
   "execution_count": null,
   "metadata": {},
   "outputs": [],
   "source": [
    "# Ваш код здесь"
   ]
  },
  {
   "cell_type": "markdown",
   "metadata": {},
   "source": [
    "Отлично! Мы многое помним с Datacamp. Давайте теперь попробуем немного попревращать одни типы данных в другие."
   ]
  },
  {
   "cell_type": "code",
   "execution_count": 35,
   "metadata": {},
   "outputs": [
    {
     "name": "stdout",
     "output_type": "stream",
     "text": [
      "10010\n"
     ]
    }
   ],
   "source": [
    "# int(), float() \n",
    "\n",
    "s = \"10010\"\n",
    "print(int(s))"
   ]
  },
  {
   "cell_type": "code",
   "execution_count": 36,
   "metadata": {},
   "outputs": [
    {
     "name": "stdout",
     "output_type": "stream",
     "text": [
      "After converting to integer base 2 :  18\n"
     ]
    }
   ],
   "source": [
    "# то же самое но в двоичной системе исчисления\n",
    "c = int(s, 2) \n",
    "print (\"After converting to integer base 2 : \", c) "
   ]
  },
  {
   "cell_type": "markdown",
   "metadata": {},
   "source": [
    "__Задание:__ превратите строку в действительное (float) число. "
   ]
  },
  {
   "cell_type": "code",
   "execution_count": null,
   "metadata": {},
   "outputs": [],
   "source": [
    "# Ваш код здесь"
   ]
  },
  {
   "cell_type": "markdown",
   "metadata": {},
   "source": [
    "Точно также можно конвертировать и в другие типы."
   ]
  },
  {
   "cell_type": "code",
   "execution_count": 37,
   "metadata": {},
   "outputs": [
    {
     "name": "stdout",
     "output_type": "stream",
     "text": [
      "After converting string to tuple :  ('g', 'e', 'e', 'k', 's')\n",
      "After converting string to set :  {'k', 'g', 'e', 's'}\n",
      "After converting string to list :  ['g', 'e', 'e', 'k', 's']\n"
     ]
    }
   ],
   "source": [
    "# tuple(), set(), list() \n",
    "s = 'geeks'\n",
    "  \n",
    "# printing string converting to tuple \n",
    "c = tuple(s) \n",
    "print (\"After converting string to tuple : \", c) \n",
    "\n",
    "  \n",
    "# printing string converting to set \n",
    "c = set(s) \n",
    "print (\"After converting string to set : \", c) \n",
    "\n",
    "  \n",
    "# printing string converting to list \n",
    "c = list(s) \n",
    "print (\"After converting string to list : \", c) "
   ]
  },
  {
   "cell_type": "markdown",
   "metadata": {},
   "source": [
    "Поговорим теперь о словарях и множествах. "
   ]
  },
  {
   "cell_type": "code",
   "execution_count": 38,
   "metadata": {},
   "outputs": [
    {
     "name": "stdout",
     "output_type": "stream",
     "text": [
      "{'ff': 1, 'gg': 2}\n"
     ]
    }
   ],
   "source": [
    "my_dict = {'ff': 1, 'gg': 2}\n",
    "print(my_dict)"
   ]
  },
  {
   "cell_type": "markdown",
   "metadata": {},
   "source": [
    "__Задание:__ попробуйте создать словарь, в котором будут дубликаты. Посмотрите что из этого выдет. Объясните что произошло. "
   ]
  },
  {
   "cell_type": "code",
   "execution_count": 39,
   "metadata": {},
   "outputs": [],
   "source": [
    "# Ваш код здесь"
   ]
  },
  {
   "cell_type": "code",
   "execution_count": 41,
   "metadata": {},
   "outputs": [
    {
     "name": "stdout",
     "output_type": "stream",
     "text": [
      "{2}\n",
      "{2, 3}\n",
      "{'ggg', 2, 3}\n"
     ]
    }
   ],
   "source": [
    "f = set()\n",
    "\n",
    "f.add(2)\n",
    "print(f)\n",
    "\n",
    "f.add(3)\n",
    "print(f)\n",
    "\n",
    "f.add('ggg')\n",
    "print(f)"
   ]
  },
  {
   "cell_type": "markdown",
   "metadata": {},
   "source": [
    "__Задание:__ добавьте в множество `f` новые элементы: `42`, а затем `3`. Выведите новое множество на экран. Что произошло? Почему?  "
   ]
  },
  {
   "cell_type": "code",
   "execution_count": null,
   "metadata": {},
   "outputs": [],
   "source": [
    "# Ваш код здесь"
   ]
  },
  {
   "cell_type": "markdown",
   "metadata": {},
   "source": [
    "__Задание:__ объясните почему в ячейке ниже возникает ошибка."
   ]
  },
  {
   "cell_type": "code",
   "execution_count": 42,
   "metadata": {},
   "outputs": [
    {
     "ename": "TypeError",
     "evalue": "unhashable type: 'list'",
     "output_type": "error",
     "traceback": [
      "\u001b[0;31m---------------------------------------------------------------------------\u001b[0m",
      "\u001b[0;31mTypeError\u001b[0m                                 Traceback (most recent call last)",
      "\u001b[0;32m<ipython-input-42-0a2aa811438f>\u001b[0m in \u001b[0;36m<module>\u001b[0;34m\u001b[0m\n\u001b[0;32m----> 1\u001b[0;31m \u001b[0mf\u001b[0m\u001b[0;34m.\u001b[0m\u001b[0madd\u001b[0m\u001b[0;34m(\u001b[0m\u001b[0mlist\u001b[0m\u001b[0;34m(\u001b[0m\u001b[0;34m'ggg'\u001b[0m\u001b[0;34m)\u001b[0m\u001b[0;34m)\u001b[0m\u001b[0;34m\u001b[0m\u001b[0;34m\u001b[0m\u001b[0m\n\u001b[0m",
      "\u001b[0;31mTypeError\u001b[0m: unhashable type: 'list'"
     ]
    }
   ],
   "source": [
    "f.add(list('ggg'))"
   ]
  },
  {
   "cell_type": "markdown",
   "metadata": {},
   "source": [
    "__Задание:__ попробуйте создать словарь, в котором в качестве ключа используется tuple. После словарь, где в качестве включа используется list. Что произошло? Объясните это."
   ]
  },
  {
   "cell_type": "markdown",
   "metadata": {},
   "source": [
    "И снова, мы очень большие молодцы! Теперь поговорим о функциях. Расскажите мне что это такое. \n",
    "\n",
    "Вот, например, функция, которая проверяет число на чётность."
   ]
  },
  {
   "cell_type": "code",
   "execution_count": 44,
   "metadata": {},
   "outputs": [],
   "source": [
    "def evenOdd( x ): \n",
    "    if (x % 2 == 0): \n",
    "        return \"even\"\n",
    "    else: \n",
    "        return \"odd\"   "
   ]
  },
  {
   "cell_type": "markdown",
   "metadata": {},
   "source": [
    "__Задание:__ вызовите функцию для какого-нибудь чётного и для какого-нибудь нечётного числа."
   ]
  },
  {
   "cell_type": "code",
   "execution_count": 47,
   "metadata": {},
   "outputs": [],
   "source": [
    "# Ваш код здесь"
   ]
  },
  {
   "cell_type": "code",
   "execution_count": 48,
   "metadata": {},
   "outputs": [],
   "source": [
    "# Ваш код здесь"
   ]
  },
  {
   "cell_type": "markdown",
   "metadata": {},
   "source": [
    "__Задание:__ Объясните почему lst не изменилися после вызова функции."
   ]
  },
  {
   "cell_type": "code",
   "execution_count": 49,
   "metadata": {},
   "outputs": [
    {
     "name": "stdout",
     "output_type": "stream",
     "text": [
      "[10, 11, 12, 13, 14, 15]\n"
     ]
    }
   ],
   "source": [
    "def myFun(x): \n",
    "    x = [20, 30, 40] \n",
    "    \n",
    "lst = [10, 11, 12, 13, 14, 15]  \n",
    "myFun(lst); \n",
    "print(lst)  "
   ]
  },
  {
   "cell_type": "markdown",
   "metadata": {},
   "source": [
    "Окей! А что произошло в этой функции?"
   ]
  },
  {
   "cell_type": "code",
   "execution_count": 54,
   "metadata": {},
   "outputs": [
    {
     "name": "stdout",
     "output_type": "stream",
     "text": [
      "before, outer_list = ['one', 'two', 'three'] \n",
      "\n",
      "got ['one', 'two', 'three']\n",
      "changed to ['one', 'two', 'three', 'four'] \n",
      "\n",
      "after, outer_list = ['one', 'two', 'three', 'four']\n"
     ]
    }
   ],
   "source": [
    "def try_to_change_list_contents(the_list):\n",
    "    print('got', the_list)\n",
    "    the_list.append('four')\n",
    "    print('changed to', the_list, '\\n')\n",
    "\n",
    "outer_list = ['one', 'two', 'three']\n",
    "\n",
    "\n",
    "print('before, outer_list =', outer_list, '\\n')\n",
    "\n",
    "# применили функцию и ...\n",
    "try_to_change_list_contents(outer_list)\n",
    "print('after, outer_list =', outer_list)"
   ]
  },
  {
   "cell_type": "markdown",
   "metadata": {},
   "source": [
    "**Ой!** Когда мы изменили список `the_list`, магическим образом изменился и исходный список `outer_list`! Почему так произошло? Дело в том, что списки живут в своём собственном мире платоновских идеальных списков. Когда мы присваиваем список переменной, то есть пишем что-нибудь вроде \n",
    "\n",
    "    first_list = [5, 8, 9, 'Hello']\n",
    "    \n",
    "мы делаем две вещи: во-первых, создаём список (с помощью операции «квадратные скобки»), а потом говорим, что теперь переменная `first_list` будет указывать на этот список (с помощью операции «равно»). Можно сказать, что мы создали список и дали ему *имя* `first_list`. \n",
    "\n",
    "После этого в `first_list` хранится не сам список, а указатель (ссылка) на него. Когда мы присваиваем значение `first_list` новой переменной `second_list`, мы не производим копирование списка, мы копируем только указатель. То есть `second_list` просто стала другим именем для того же самого списка, что и `firt_list`. Поэтому изменение элементов `second_list` приведет к изменению `first_list`, и наоборот.\n",
    "\n",
    "То есть, когда мы передали в функцию `outer_list`, в качестве аргумента `the_list`, мы оперировали указателем. Никакого нового объекта во внутренней зоне видимости функции не созалось и изначальный список поменялся. На смом деле все объекты в python делятся на изменяемые и неизменяемые. Для изменяемых объектов мы всегда передаём в функцию ссылку. Для неизменяемых копию. "
   ]
  },
  {
   "cell_type": "markdown",
   "metadata": {},
   "source": [
    "__Задание:__ Вроде бы со ссылками разобрались. Теперь попробуйте объяснить вот это."
   ]
  },
  {
   "cell_type": "code",
   "execution_count": 57,
   "metadata": {},
   "outputs": [
    {
     "name": "stdout",
     "output_type": "stream",
     "text": [
      "before, outer_list = ['we', 'like', 'proper', 'English'] \n",
      "\n",
      "got ['we', 'like', 'proper', 'English']\n",
      "set to ['and', 'we', 'can', 'not', 'lie'] \n",
      "\n",
      "after, outer_list = ['we', 'like', 'proper', 'English']\n"
     ]
    }
   ],
   "source": [
    "def try_to_change_list_reference(the_list):\n",
    "    print('got', the_list)\n",
    "    the_list = ['and', 'we', 'can', 'not', 'lie']\n",
    "    print('set to', the_list, '\\n')\n",
    "\n",
    "outer_list = ['we', 'like', 'proper', 'English']\n",
    "\n",
    "print('before, outer_list =', outer_list, '\\n')\n",
    "try_to_change_list_reference(outer_list)\n",
    "print('after, outer_list =', outer_list)"
   ]
  },
  {
   "cell_type": "markdown",
   "metadata": {},
   "source": [
    "__Задание:__ а затем вот это."
   ]
  },
  {
   "cell_type": "code",
   "execution_count": 59,
   "metadata": {},
   "outputs": [
    {
     "name": "stdout",
     "output_type": "stream",
     "text": [
      "before, outer_string = It was many and many a year ago \n",
      "\n",
      "got It was many and many a year ago\n",
      "set to In a kingdom by the sea \n",
      "\n",
      "after, outer_string = It was many and many a year ago\n"
     ]
    }
   ],
   "source": [
    "def try_to_change_string_reference(the_string):\n",
    "    print('got', the_string)\n",
    "    the_string = 'In a kingdom by the sea'\n",
    "    print('set to', the_string, '\\n')\n",
    "\n",
    "outer_string = 'It was many and many a year ago'\n",
    "\n",
    "print('before, outer_string =', outer_string, '\\n')\n",
    "try_to_change_string_reference(outer_string)\n",
    "print('after, outer_string =', outer_string)"
   ]
  },
  {
   "cell_type": "markdown",
   "metadata": {},
   "source": [
    "Методы для работы со списками: \n",
    "\n",
    "- `list.append(x)`\tДобавляет элемент в конец списка\n",
    "- `list.extend(L)`\tРасширяет список list, добавляя в конец все элементы списка L\n",
    "- `list.insert(i, x)`\tВставляет на i-ый элемент значение x\n",
    "- `list.remove(x)`\tУдаляет первый элемент в списке, имеющий значение x. ValueError, если такого элемента не существует\n",
    "- `list.pop([i])`\tУдаляет i-ый элемент и возвращает его. Если индекс не указан, удаляется последний элемент\n",
    "- `list.index(x, [start [, end]])`\tВозвращает положение первого элемента со значением x (при этом поиск ведется от start до end)\n",
    "- `list.count(x)`\tВозвращает количество элементов со значением x\n",
    "- `list.sort([key=функция])`\tСортирует список на основе функции\n",
    "- `list.reverse()`\tРазворачивает список\n",
    "- `list.copy()`\tПоверхностная копия списка\n",
    "- `list.clear()`\tОчищает список"
   ]
  },
  {
   "cell_type": "markdown",
   "metadata": {},
   "source": [
    "__Задание:__ Объясните кусок кода ниже"
   ]
  },
  {
   "cell_type": "code",
   "execution_count": 60,
   "metadata": {},
   "outputs": [
    {
     "name": "stdout",
     "output_type": "stream",
     "text": [
      "1\n",
      "1\n",
      "5\n",
      "[0, 2, 4, 6, 8, 5, 10, 12, 14, 16, 18]\n",
      "Sorted list [0, 2, 4, 5, 6, 8, 10, 12, 14, 16]\n",
      "[16, 14, 12, 10, 8, 6, 5, 4, 2, 0]\n",
      "[16, 14, 12, 10, 8, 6, 5, 4, 2]\n"
     ]
    }
   ],
   "source": [
    "My_list = [ ]\n",
    "\n",
    "for i in range(0,20,2):\n",
    "    My_list.append(i)\n",
    "\n",
    "print(My_list.count(2))\n",
    "\n",
    "print(My_list.count(2))\n",
    "print(My_list.index(10))\n",
    "My_list.insert(5,5)\n",
    "print(My_list)\n",
    "My_list.pop()\n",
    "\n",
    "My_list.sort()\n",
    "print(\"Sorted list\", My_list)\n",
    "\n",
    "My_list.reverse()\n",
    "print(My_list)\n",
    "####---Another way to reverse---###\n",
    "print(My_list[:-1])"
   ]
  },
  {
   "cell_type": "markdown",
   "metadata": {},
   "source": [
    "## 4. Задачки для самых умных и быстрых."
   ]
  },
  {
   "cell_type": "markdown",
   "metadata": {},
   "source": [
    "### Задача 1\n",
    "\n",
    "N хоббитов делят K кусков эльфийского хлеба поровну, не делящийся остаток остается в корзинке у Сэма. <br />\n",
    "1) Сколько кусков эльфиского хлеба достанется каждому хоббиту?<br />\n",
    "2) Сколько останется в корзинке?\n",
    "\n",
    "**Образец**\n",
    "\n",
    "Входные данные:<br />\n",
    ">3<br />\n",
    "14<br />\n",
    "\n",
    "Вывод программы:\n",
    "\n",
    ">Каждому хоббиту достанется 4<br />\n",
    "В корзине останется 2"
   ]
  },
  {
   "cell_type": "code",
   "execution_count": null,
   "metadata": {},
   "outputs": [],
   "source": [
    "# Ваш код "
   ]
  },
  {
   "cell_type": "markdown",
   "metadata": {},
   "source": [
    "### Задача 2 \n",
    "\n",
    "Хоббит хочет записать слово `python` 100 раз подряд. Помогите ему сделать это."
   ]
  },
  {
   "cell_type": "code",
   "execution_count": null,
   "metadata": {},
   "outputs": [],
   "source": [
    "# Ваш код "
   ]
  },
  {
   "cell_type": "markdown",
   "metadata": {},
   "source": [
    "### Задача 3 \n",
    "\n",
    "Хоббит взял число $179^{10}$ записали четыре раза подряд. Из получившегося числа он извлёк корень степени $10$. Сколько вышло у Хоббита в итоге?"
   ]
  },
  {
   "cell_type": "code",
   "execution_count": null,
   "metadata": {},
   "outputs": [],
   "source": [
    "# Ваш код "
   ]
  },
  {
   "cell_type": "markdown",
   "metadata": {},
   "source": [
    "### Задача 4\n",
    "\n",
    "Для могущественного магического ритуала Гендальфу необходимо быстро подсчитывать площадь своего амулета, который умеет менять размеры. Известно, что амулет имеет форму треугольника и Гендальф знает длину каждой из сторон. Напишите функцию, которая считает площадь амулета по трем сторонам. Стороны вводятся вне функции. <br /> \n",
    "Подсказка: используйте формулу Герона\n",
    "$$ S = \\sqrt{p(p-a)(p-b)(p-c)} $$\n",
    "$$ p = \\frac{a + b + c}{2}$$\n",
    "**Образец**\n",
    "\n",
    "Входные данные:<br />\n",
    "3\n",
    "4\n",
    "5\n",
    "\n",
    "Вывод программы: <br />\n",
    "6"
   ]
  },
  {
   "cell_type": "code",
   "execution_count": null,
   "metadata": {},
   "outputs": [],
   "source": [
    "# Ваш код "
   ]
  }
 ],
 "metadata": {
  "kernelspec": {
   "display_name": "Python 3",
   "language": "python",
   "name": "python3"
  },
  "language_info": {
   "codemirror_mode": {
    "name": "ipython",
    "version": 3
   },
   "file_extension": ".py",
   "mimetype": "text/x-python",
   "name": "python",
   "nbconvert_exporter": "python",
   "pygments_lexer": "ipython3",
   "version": "3.7.2"
  }
 },
 "nbformat": 4,
 "nbformat_minor": 2
}
