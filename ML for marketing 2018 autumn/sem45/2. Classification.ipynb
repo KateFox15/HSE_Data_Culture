{
 "cells": [
  {
   "cell_type": "markdown",
   "metadata": {},
   "source": [
    "# 2. Привлечение клиентов и классификация"
   ]
  },
  {
   "cell_type": "code",
   "execution_count": null,
   "metadata": {},
   "outputs": [],
   "source": [
    "# Как обычно, для начала подгружаем нужные нам пакеты\n",
    "import pandas as pd    # пакет для работы с таблицами \n",
    "import numpy as np     # пакет для работы с матрицами \n",
    "\n",
    "# пакеты для картиночек \n",
    "import matplotlib\n",
    "import matplotlib.pyplot as plt\n",
    "import seaborn as sns\n",
    "plt.style.use('ggplot')  # правильный (наиболее красивый) стиль у графиков\n",
    "\n",
    "%matplotlib inline\n",
    "\n",
    "from datetime import datetime # пакет для работы с датами \n",
    "# остальные пакеты подгрузим по мере необходимости"
   ]
  },
  {
   "cell_type": "markdown",
   "metadata": {},
   "source": [
    "## 2.1 Постановка задачи и выбор метрик\n",
    "\n",
    "В наших руках оказались [данные со статистикой скачки мобильных приложений из Appstore.](https://www.kaggle.com/ramamet4/app-store-apple-data-set-10k-apps/home) Предположим, что мы хотим запилить своё приложение и заработать на нём денег. Чтобы монетизировать приложение, нам нужно много пользователей. Возникает задача их привлечения и последущего удержания.\n",
    "\n",
    "Наш набор данных содержит более $7000$ наблюдений о мобильных приложениях под IOS. На основе этих данных можно посмотреть какими характеристиками должно обладать приложение, привлекающее людей и сделать своё приложение так, чтобы его рейтинги были максимально возможными. \n",
    "\n",
    "Целевой переменной для данной задачи будет рейтинг приложения. Нам хотелось бы, чтобы рейтинг нашего приложения был как можно выше. Будем считать, что нас устроит рейтинг $>4$. Разделим все приложения на хорошие и плохие и будем решать задачу классификации. \n",
    "\n",
    "ПРО МЕТРИКИ\n",
    "\n",
    "И ПЕРЕХОД ОТ НИХ К БИЗНЕСУ\n",
    "\n",
    "\n",
    "## 2.2 Данные? Какие данные? \n",
    "\n",
    "__Описание переменных:__\n",
    "\n",
    "* `id` - идентификатор приложения;\n",
    "* `track_name` - название приложения;\n",
    "* `size_bytes` - размер приложения в байтах;\n",
    "* `currency` - тип валюты, в которой платят за приложение;\n",
    "* `price` - цена приложения;\n",
    "* `rating_count_tot` - число проголосовавших юзеров;\n",
    "* `rating_count_ver` - число проголосовавших юзеров (для текущей версии приложения);\n",
    "* `user_rating` - среднее значение рейтинга для всех версий;\n",
    "* `user_rating_ver` - среднее значение рейтинга для текущей версии;\n",
    "* `ver` - код последней версии;\n",
    "* `cont_rating` - возрастные ограничения;\n",
    "* `prime_genre` - жанр;\n",
    "* `sup_devices.num` - число поддерживающих устройств;\n",
    "* `ipadSc_urls.num` - число скриншотов с примерами;\n",
    "* `lang.num` - число поддерживаемых языков;\n",
    "* `vpp_lic` - есть ли лицензия VPP;\n",
    "* `app_desc` - описание приложения. \n",
    "\n",
    "Подгружаем данные! "
   ]
  },
  {
   "cell_type": "code",
   "execution_count": null,
   "metadata": {},
   "outputs": [],
   "source": []
  },
  {
   "cell_type": "code",
   "execution_count": null,
   "metadata": {},
   "outputs": [],
   "source": []
  },
  {
   "cell_type": "code",
   "execution_count": null,
   "metadata": {},
   "outputs": [],
   "source": []
  },
  {
   "cell_type": "code",
   "execution_count": null,
   "metadata": {},
   "outputs": [],
   "source": [
    "Задание: \n",
    "    \n",
    "в варке фичей сегментация приложений и использование инфы о сегментах для обучения моделей "
   ]
  },
  {
   "cell_type": "code",
   "execution_count": null,
   "metadata": {},
   "outputs": [],
   "source": []
  },
  {
   "cell_type": "code",
   "execution_count": null,
   "metadata": {},
   "outputs": [],
   "source": []
  }
 ],
 "metadata": {
  "kernelspec": {
   "display_name": "Python 3",
   "language": "python",
   "name": "python3"
  },
  "language_info": {
   "codemirror_mode": {
    "name": "ipython",
    "version": 3
   },
   "file_extension": ".py",
   "mimetype": "text/x-python",
   "name": "python",
   "nbconvert_exporter": "python",
   "pygments_lexer": "ipython3",
   "version": "3.6.4"
  }
 },
 "nbformat": 4,
 "nbformat_minor": 2
}
